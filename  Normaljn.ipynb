{
 "cells": [
  {
   "cell_type": "code",
   "execution_count": 1,
   "id": "0feabebd-83c8-4d21-9a97-a603ce77abcd",
   "metadata": {},
   "outputs": [
    {
     "name": "stdout",
     "output_type": "stream",
     "text": [
      "Downloading https://github.com/ultralytics/assets/releases/download/v8.3.0/yolo11s-pose.pt to 'yolo11s-pose.pt'...\n"
     ]
    },
    {
     "name": "stderr",
     "output_type": "stream",
     "text": [
      "100%|█████████████████████████████████████████████████████████████████████████████| 19.4M/19.4M [00:02<00:00, 7.12MB/s]\n"
     ]
    },
    {
     "name": "stdout",
     "output_type": "stream",
     "text": [
      "Total frames processed: 1004, Total cropped images saved: 159\n",
      "Keypoint data saved to C:\\Users\\adars\\Downloads\\yolo11-suspicious-action-main\\yolo11-suspicious-action-main\\nkeypoint.csv\n"
     ]
    }
   ],
   "source": [
    "import os\n",
    "import cv2\n",
    "from ultralytics import YOLO\n",
    "import pandas as pd\n",
    "\n",
    "# Load your YOLO model\n",
    "model = YOLO(\"yolo11s-pose.pt\")\n",
    "\n",
    "# Video path\n",
    "cap = cv2.VideoCapture('nm1.mp4')\n",
    "\n",
    "# Get video properties\n",
    "frames = cap.get(cv2.CAP_PROP_FRAME_COUNT)\n",
    "fps = cap.get(cv2.CAP_PROP_FPS)\n",
    "seconds = round(frames / fps)\n",
    "\n",
    "frame_total = 1000\n",
    "i = 0\n",
    "a = 0\n",
    "\n",
    "all_data = []\n",
    "\n",
    "while cap.isOpened():\n",
    "    # Set the position in milliseconds\n",
    "    cap.set(cv2.CAP_PROP_POS_MSEC, (i * ((seconds / frame_total) * 1000)))\n",
    "    flag, frame = cap.read()\n",
    "\n",
    "    if not flag:\n",
    "        break\n",
    "\n",
    "    # Save full frame image\n",
    "    pa = r'C:\\Users\\adars\\Downloads\\yolo11-suspicious-action-main\\yolo11-suspicious-action-main\\images'\n",
    "    image_path = f'{pa}\\img_{i}.jpg'\n",
    "    cv2.imwrite(image_path, frame)\n",
    "\n",
    "    # Run YOLO detection\n",
    "    results = model(frame, verbose=False)\n",
    "\n",
    "    for r in results:\n",
    "        bound_box = r.boxes.xyxy  # Get bounding boxes\n",
    "        conf = r.boxes.conf.tolist()  # Confidence score\n",
    "        keypoints = r.keypoints.xyn.tolist()  # Human keypoints\n",
    "\n",
    "        for index, box in enumerate(bound_box):\n",
    "            if conf[index] > 0.75:\n",
    "                x1, y1, x2, y2 = box.tolist()\n",
    "                cropped_person = frame[int(y1):int(y2), int(x1):int(x2)]\n",
    "                op = r'C:\\Users\\adars\\Downloads\\yolo11-suspicious-action-main\\yolo11-suspicious-action-main\\images1'\n",
    "                output_path = f'{op}\\person_nn_{a}.jpg'\n",
    "\n",
    "                data = {'image_name': f'person_nn_{a}.jpg'}\n",
    "\n",
    "                # Save keypoint data\n",
    "                for j in range(len(keypoints[index])):\n",
    "                    data[f'x{j}'] = keypoints[index][j][0]\n",
    "                    data[f'y{j}'] = keypoints[index][j][1]\n",
    "\n",
    "                all_data.append(data)\n",
    "                cv2.imwrite(output_path, cropped_person)\n",
    "                a += 1\n",
    "\n",
    "    i += 1\n",
    "\n",
    "print(f\"Total frames processed: {i-1}, Total cropped images saved: {a-1}\")\n",
    "cap.release()\n",
    "cv2.destroyAllWindows()\n",
    "\n",
    "# Convert to DataFrame\n",
    "df = pd.DataFrame(all_data)\n",
    "\n",
    "# Path to your CSV file\n",
    "csv_file_path = r'C:\\Users\\adars\\Downloads\\yolo11-suspicious-action-main\\yolo11-suspicious-action-main\\nkeypoint.csv'\n",
    "\n",
    "# Check if the file exists to determine whether to append or create new\n",
    "if not os.path.isfile(csv_file_path):\n",
    "    df.to_csv(csv_file_path, index=False)  # Create new file if it doesn't exist\n",
    "else:\n",
    "    df.to_csv(csv_file_path, mode='a', header=False, index=False)  # Append if it exists\n",
    "\n",
    "print(f\"Keypoint data saved to {csv_file_path}\")"
   ]
  },
  {
   "cell_type": "code",
   "execution_count": null,
   "id": "e81b62aa-c09f-4d3a-813e-22b25d30ee63",
   "metadata": {},
   "outputs": [],
   "source": []
  }
 ],
 "metadata": {
  "kernelspec": {
   "display_name": "Python 3 (ipykernel)",
   "language": "python",
   "name": "python3"
  },
  "language_info": {
   "codemirror_mode": {
    "name": "ipython",
    "version": 3
   },
   "file_extension": ".py",
   "mimetype": "text/x-python",
   "name": "python",
   "nbconvert_exporter": "python",
   "pygments_lexer": "ipython3",
   "version": "3.10.11"
  }
 },
 "nbformat": 4,
 "nbformat_minor": 5
}
