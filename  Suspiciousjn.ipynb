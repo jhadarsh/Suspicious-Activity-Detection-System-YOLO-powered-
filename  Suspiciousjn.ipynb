{
 "cells": [
  {
   "cell_type": "code",
   "execution_count": 1,
   "id": "efc1d122-94c7-420c-bf96-afe7c0e67c6f",
   "metadata": {},
   "outputs": [],
   "source": [
    "import os\n",
    "import cv2\n",
    "from ultralytics import YOLO\n",
    "import pandas as pd\n"
   ]
  },
  {
   "cell_type": "code",
   "execution_count": 2,
   "id": "2e5738cc-891f-48d8-afd2-e41c9ee24f1b",
   "metadata": {},
   "outputs": [],
   "source": [
    "model = YOLO(\"yolo11s-pose.pt\")"
   ]
  },
  {
   "cell_type": "code",
   "execution_count": 3,
   "id": "14089199-d1ff-4bd1-9705-afd0c16960f7",
   "metadata": {},
   "outputs": [],
   "source": [
    "cap = cv2.VideoCapture('sp1.mp4')"
   ]
  },
  {
   "cell_type": "code",
   "execution_count": 4,
   "id": "978a4fee-a2e5-4958-b07f-2f5c94ea1cd7",
   "metadata": {},
   "outputs": [],
   "source": [
    "# Get video properties\n",
    "frames = cap.get(cv2.CAP_PROP_FRAME_COUNT)\n",
    "fps = cap.get(cv2.CAP_PROP_FPS)\n",
    "seconds = round(frames / fps)"
   ]
  },
  {
   "cell_type": "code",
   "execution_count": 5,
   "id": "9f3b6ef6-87e2-4c50-9c1b-852c91accc9a",
   "metadata": {},
   "outputs": [],
   "source": [
    "frame_total = 2000\n",
    "i = 0\n",
    "a = 160 # Start from 848 forcefully\n",
    "\n",
    "all_data = []"
   ]
  },
  {
   "cell_type": "code",
   "execution_count": 6,
   "id": "32e0ccc6-567c-46db-87b7-c5d51ae95a5a",
   "metadata": {},
   "outputs": [],
   "source": [
    "# Define output path for cropped images\n",
    "output_path_dir = r'C:\\Users\\adars\\Downloads\\yolo11-suspicious-action-main\\yolo11-suspicious-action-main\\images1'"
   ]
  },
  {
   "cell_type": "code",
   "execution_count": 7,
   "id": "a5b74a69-6ca0-4fe4-9c40-3b6dd2f74982",
   "metadata": {},
   "outputs": [],
   "source": [
    "while cap.isOpened():\n",
    "    # Set the position in milliseconds\n",
    "    cap.set(cv2.CAP_PROP_POS_MSEC, (i * ((seconds / frame_total) * 1000)))\n",
    "    flag, frame = cap.read()\n",
    "\n",
    "    if not flag:\n",
    "        break\n",
    "\n",
    "    # Save full frame image\n",
    "    pa = r'C:\\Users\\adars\\Downloads\\yolo11-suspicious-action-main\\yolo11-suspicious-action-main\\images'\n",
    "    image_path = f'{pa}\\img_{i}.jpg'\n",
    "    cv2.imwrite(image_path, frame)\n",
    "\n",
    "    # Run YOLO detection\n",
    "    results = model(frame, verbose=False)\n",
    "\n",
    "    for r in results:\n",
    "        bound_box = r.boxes.xyxy  # Get bounding boxes\n",
    "        conf = r.boxes.conf.tolist()  # Confidence score\n",
    "        keypoints = r.keypoints.xyn.tolist()  # Human keypoints\n",
    "\n",
    "        for index, box in enumerate(bound_box):\n",
    "            if conf[index] > 0.75:\n",
    "                x1, y1, x2, y2 = box.tolist()\n",
    "                cropped_person = frame[int(y1):int(y2), int(x1):int(x2)]\n",
    "                output_path = os.path.join(output_path_dir, f'person_nn_{a}.jpg')\n",
    "\n",
    "                data = {'image_name': f'person_nn_{a}.jpg'}\n",
    "\n",
    "                # Save keypoint data\n",
    "                for j in range(len(keypoints[index])):\n",
    "                    data[f'x{j}'] = keypoints[index][j][0]\n",
    "                    data[f'y{j}'] = keypoints[index][j][1]\n",
    "\n",
    "                all_data.append(data)\n",
    "                cv2.imwrite(output_path, cropped_person)\n",
    "                a += 1  # Increment image number for the next person\n",
    "\n",
    "    i += 1\n"
   ]
  },
  {
   "cell_type": "code",
   "execution_count": 8,
   "id": "76204b49-502a-419d-9d44-d6506d4f0398",
   "metadata": {},
   "outputs": [
    {
     "name": "stdout",
     "output_type": "stream",
     "text": [
      "Total frames processed: 2008, Total cropped images saved: 417\n",
      "Keypoint data saved to C:\\Users\\adars\\Downloads\\yolo11-suspicious-action-main\\yolo11-suspicious-action-main\\nkeypoint.csv\n"
     ]
    }
   ],
   "source": [
    "print(f\"Total frames processed: {i-1}, Total cropped images saved: {a-1}\")\n",
    "cap.release()\n",
    "cv2.destroyAllWindows()\n",
    "\n",
    "# Convert to DataFrame\n",
    "df = pd.DataFrame(all_data)\n",
    "\n",
    "# Path to your CSV file\n",
    "csv_file_path = r'C:\\Users\\adars\\Downloads\\yolo11-suspicious-action-main\\yolo11-suspicious-action-main\\nkeypoint.csv'\n",
    "\n",
    "# Check if the file exists to determine whether to append or create new\n",
    "if not os.path.isfile(csv_file_path):\n",
    "    df.to_csv(csv_file_path, index=False)  # Create new file if it doesn't exist\n",
    "else:\n",
    "    df.to_csv(csv_file_path, mode='a', header=False, index=False)  # Append if it exists\n",
    "\n",
    "print(f\"Keypoint data saved to {csv_file_path}\")\n"
   ]
  },
  {
   "cell_type": "code",
   "execution_count": null,
   "id": "d4f19e75-c4ef-46b7-9288-1c71e447eb4e",
   "metadata": {},
   "outputs": [],
   "source": []
  }
 ],
 "metadata": {
  "kernelspec": {
   "display_name": "Python 3 (ipykernel)",
   "language": "python",
   "name": "python3"
  },
  "language_info": {
   "codemirror_mode": {
    "name": "ipython",
    "version": 3
   },
   "file_extension": ".py",
   "mimetype": "text/x-python",
   "name": "python",
   "nbconvert_exporter": "python",
   "pygments_lexer": "ipython3",
   "version": "3.10.11"
  }
 },
 "nbformat": 4,
 "nbformat_minor": 5
}
