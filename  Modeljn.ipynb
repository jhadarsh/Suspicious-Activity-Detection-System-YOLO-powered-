{
 "cells": [
  {
   "cell_type": "code",
   "execution_count": 1,
   "id": "a648f3d6-d1e3-40f3-a666-de85b8ddf25e",
   "metadata": {},
   "outputs": [
    {
     "name": "stdout",
     "output_type": "stream",
     "text": [
      "XGBClassifier(base_score=None, booster=None, callbacks=None,\n",
      "              colsample_bylevel=None, colsample_bynode=None,\n",
      "              colsample_bytree=None, device=None, early_stopping_rounds=None,\n",
      "              enable_categorical=True, eta=0.1, eval_metric='logloss',\n",
      "              feature_types=None, gamma=None, grow_policy=None,\n",
      "              importance_type=None, interaction_constraints=None,\n",
      "              learning_rate=None, max_bin=None, max_cat_threshold=None,\n",
      "              max_cat_to_onehot=None, max_delta_step=None, max_depth=3,\n",
      "              max_leaves=None, min_child_weight=None, missing=nan,\n",
      "              monotone_constraints=None, multi_strategy=None, n_estimators=50,\n",
      "              n_jobs=None, num_parallel_tree=None, ...)\n",
      "Accuracy: 0.9946524064171123\n"
     ]
    }
   ],
   "source": [
    "import pandas as pd\n",
    "from sklearn.model_selection import train_test_split\n",
    "from sklearn.metrics import accuracy_score\n",
    "import xgboost as xgb\n",
    "\n",
    "# Load the dataset CSV file\n",
    "df = pd.read_csv(r'C:\\Users\\adars\\Downloads\\yolo11-suspicious-action-main\\yolo11-suspicious-action-main\\dataset_path\\dataset_pathdataset.csv')\n",
    "\n",
    "# Prepare feature matrix X and target vector y\n",
    "X = df.drop(['label', 'image_name'], axis=1)  # Drop the label and image_name columns\n",
    "y = df['label'].map({'Suspicious': 0, 'Normal': 1})  # Map the label to 0 (Suspicious) and 1 (Normal)\n",
    "\n",
    "# Split the dataset into training and testing sets (80% train, 20% test)\n",
    "X_train, X_test, y_train, y_test = train_test_split(X, y, test_size=0.2, random_state=42, stratify=y)\n",
    "\n",
    "# Create and configure the XGBoost classifier\n",
    "model = xgb.XGBClassifier(\n",
    "    n_estimators=50,              # Number of trees (iterations)\n",
    "    eval_metric='logloss',        # Evaluation metric for classification\n",
    "    objective='binary:logistic',  # Binary classification task\n",
    "    tree_method='hist',           # Optimized tree method for faster training\n",
    "    eta=0.1,                      # Learning rate\n",
    "    max_depth=3,                  # Maximum tree depth (controls model complexity)\n",
    "    enable_categorical=True       # Enable if using categorical features (if applicable)\n",
    ")\n",
    "\n",
    "# Train the model on the training data\n",
    "model.fit(X_train, y_train)\n",
    "\n",
    "# Output the model details\n",
    "print(model)\n",
    "\n",
    "# Make predictions on the test set\n",
    "y_pred = model.predict(X_test)\n",
    "\n",
    "# Evaluate the model's accuracy\n",
    "accuracy = accuracy_score(y_test, y_pred)\n",
    "print(f\"Accuracy: {accuracy}\")\n",
    "\n",
    "# Save the trained model to a file\n",
    "model.save_model(r\"C:\\Users\\adars\\Downloads\\yolo11-suspicious-action-main\\yolo11-suspicious-action-main\\trained_model.json\")\n"
   ]
  },
  {
   "cell_type": "code",
   "execution_count": null,
   "id": "ba551f31-569e-4efb-863c-7dd1b64cb4df",
   "metadata": {},
   "outputs": [],
   "source": []
  }
 ],
 "metadata": {
  "kernelspec": {
   "display_name": "Python 3 (ipykernel)",
   "language": "python",
   "name": "python3"
  },
  "language_info": {
   "codemirror_mode": {
    "name": "ipython",
    "version": 3
   },
   "file_extension": ".py",
   "mimetype": "text/x-python",
   "name": "python",
   "nbconvert_exporter": "python",
   "pygments_lexer": "ipython3",
   "version": "3.10.11"
  }
 },
 "nbformat": 4,
 "nbformat_minor": 5
}
