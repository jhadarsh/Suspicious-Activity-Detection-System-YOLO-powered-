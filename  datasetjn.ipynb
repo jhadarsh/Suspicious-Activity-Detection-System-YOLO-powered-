{
 "cells": [
  {
   "cell_type": "code",
   "execution_count": 3,
   "id": "331b868a-4e1b-4794-ad1e-94ddad1a91a5",
   "metadata": {},
   "outputs": [],
   "source": [
    "import os\n",
    "import pandas as pd\n",
    "\n",
    "\n",
    "df = pd.read_csv(r'C:\\Users\\adars\\Downloads\\yolo11-suspicious-action-main\\yolo11-suspicious-action-main\\nkeypoint.csv')\n",
    "\n",
    "dataset_path = r'C:\\Users\\adars\\Downloads\\yolo11-suspicious-action-main\\yolo11-suspicious-action-main\\dataset_path'\n",
    "sus_path = os.path.join(dataset_path, 'Sucpicious')\n",
    "normal_path = os.path.join(dataset_path, 'Normal')\n",
    "\n",
    "def get_label(image_name, sus_path, normal_path):\n",
    "    if image_name in os.listdir(sus_path):\n",
    "        return 'Suspicious'\n",
    "    elif image_name in os.listdir(normal_path):\n",
    "        return 'Normal'\n",
    "    else:\n",
    "        return None \n",
    "\n",
    "df['label'] = df['image_name'].apply(lambda x: get_label(x, sus_path,normal_path))\n",
    "df.to_csv(f'{dataset_path}dataset.csv', index=False)"
   ]
  },
  {
   "cell_type": "code",
   "execution_count": null,
   "id": "1d44d1ec-3b92-4f2b-9832-e4cf8f5186fa",
   "metadata": {},
   "outputs": [],
   "source": []
  }
 ],
 "metadata": {
  "kernelspec": {
   "display_name": "Python 3 (ipykernel)",
   "language": "python",
   "name": "python3"
  },
  "language_info": {
   "codemirror_mode": {
    "name": "ipython",
    "version": 3
   },
   "file_extension": ".py",
   "mimetype": "text/x-python",
   "name": "python",
   "nbconvert_exporter": "python",
   "pygments_lexer": "ipython3",
   "version": "3.10.11"
  }
 },
 "nbformat": 4,
 "nbformat_minor": 5
}
